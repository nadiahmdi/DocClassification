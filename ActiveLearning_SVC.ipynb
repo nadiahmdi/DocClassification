{
  "nbformat": 4,
  "nbformat_minor": 0,
  "metadata": {
    "colab": {
      "provenance": [],
      "toc_visible": true
    },
    "kernelspec": {
      "name": "python3",
      "display_name": "Python 3"
    },
    "language_info": {
      "name": "python"
    }
  },
  "cells": [
    {
      "cell_type": "code",
      "source": [
        "!pip install small_text"
      ],
      "metadata": {
        "colab": {
          "base_uri": "https://localhost:8080/"
        },
        "id": "HXdLplBZ9V8-",
        "outputId": "15860954-09cd-45d4-8a23-8dedc76e96f5"
      },
      "execution_count": 2,
      "outputs": [
        {
          "output_type": "stream",
          "name": "stdout",
          "text": [
            "Looking in indexes: https://pypi.org/simple, https://us-python.pkg.dev/colab-wheels/public/simple/\n",
            "Collecting small_text\n",
            "  Downloading small_text-1.1.1-py3-none-any.whl (178 kB)\n",
            "\u001b[K     |████████████████████████████████| 178 kB 4.8 MB/s \n",
            "\u001b[?25hRequirement already satisfied: packaging in /usr/local/lib/python3.8/dist-packages (from small_text) (21.3)\n",
            "Requirement already satisfied: tqdm in /usr/local/lib/python3.8/dist-packages (from small_text) (4.64.1)\n",
            "Requirement already satisfied: numpy>=1.20.0 in /usr/local/lib/python3.8/dist-packages (from small_text) (1.21.6)\n",
            "Requirement already satisfied: scipy in /usr/local/lib/python3.8/dist-packages (from small_text) (1.7.3)\n",
            "Requirement already satisfied: dill in /usr/local/lib/python3.8/dist-packages (from small_text) (0.3.6)\n",
            "Requirement already satisfied: scikit-learn>=0.24.1 in /usr/local/lib/python3.8/dist-packages (from small_text) (1.0.2)\n",
            "Requirement already satisfied: threadpoolctl>=2.0.0 in /usr/local/lib/python3.8/dist-packages (from scikit-learn>=0.24.1->small_text) (3.1.0)\n",
            "Requirement already satisfied: joblib>=0.11 in /usr/local/lib/python3.8/dist-packages (from scikit-learn>=0.24.1->small_text) (1.2.0)\n",
            "Requirement already satisfied: pyparsing!=3.0.5,>=2.0.2 in /usr/local/lib/python3.8/dist-packages (from packaging->small_text) (3.0.9)\n",
            "Installing collected packages: small-text\n",
            "Successfully installed small-text-1.1.1\n"
          ]
        }
      ]
    },
    {
      "cell_type": "code",
      "source": [
        "#Import required packages...............................................................................................\n",
        "import numpy as np\n",
        "import pandas as pd\n",
        "import re\n",
        "from small_text.base import LABEL_UNLABELED\n",
        "from scipy import sparse as sp\n",
        "from sklearn.pipeline import Pipeline\n",
        "from gensim.models import Word2Vec\n",
        "from sklearn.feature_extraction.text import TfidfVectorizer\n",
        "from sklearn.feature_extraction.text import CountVectorizer\n",
        "from sklearn.feature_extraction.text import TfidfTransformer\n",
        "from sklearn.preprocessing import LabelEncoder\n",
        "from sklearn.feature_selection import chi2\n",
        "from sklearn.feature_selection import SelectKBest\n",
        "from nltk.corpus import movie_reviews\n",
        "from nltk.corpus import stopwords\n",
        "from sklearn.model_selection import train_test_split\n",
        "from sklearn.svm import SVC\n",
        "from nltk.classify.scikitlearn import SklearnClassifier\n",
        "from sklearn.metrics import accuracy_score\n",
        "import nltk"
      ],
      "metadata": {
        "id": "ttI9NP-E9ruE"
      },
      "execution_count": 5,
      "outputs": []
    },
    {
      "cell_type": "code",
      "source": [
        "#Describe the data set movie_reviews....................................................................................\n",
        "nltk.download('movie_reviews')\n",
        "print(len(movie_reviews.fileids()))\n",
        "print(movie_reviews.categories())"
      ],
      "metadata": {
        "colab": {
          "base_uri": "https://localhost:8080/"
        },
        "id": "GRZYLoqZ9RnR",
        "outputId": "0a34898b-22ff-4876-bf41-1597fc981409"
      },
      "execution_count": 6,
      "outputs": [
        {
          "output_type": "stream",
          "name": "stderr",
          "text": [
            "[nltk_data] Downloading package movie_reviews to /root/nltk_data...\n",
            "[nltk_data]   Unzipping corpora/movie_reviews.zip.\n"
          ]
        },
        {
          "output_type": "stream",
          "name": "stdout",
          "text": [
            "2000\n",
            "['neg', 'pos']\n"
          ]
        }
      ]
    },
    {
      "cell_type": "code",
      "source": [
        "#Data Pre Processing..................................................................................\n",
        "nltk.download('stopwords')\n",
        "def dataframe_data(movie_reviews):\n",
        "    #convert corpus to Pandas DataFrame\n",
        "    df=[]\n",
        "    for fileid in movie_reviews.fileids():\n",
        "        tag,filename=fileid.split('/')\n",
        "        df.append((filename,tag,movie_reviews.raw(fileid)))\n",
        "    df1=pd.DataFrame(df,columns=['fileId', 'Class', 'TextData'])\n",
        "    documents=df1.iloc[:,1:]\n",
        "    #Convert class values to Numeric type data\n",
        "    lenc=LabelEncoder()\n",
        "    documents.iloc[:,0]=lenc.fit_transform(documents['Class'])\n",
        "    return documents\n",
        "\n",
        "def define_transformers(n_of_top_features):\n",
        "    #Define the stop words\n",
        "    mystopwords = set(stopwords.words(\"english\"))\n",
        "    top_k_features = n_of_top_features\n",
        "    text_processor = Pipeline([\n",
        "        ('count vectorizer', CountVectorizer(stop_words=mystopwords, lowercase=True)),\n",
        "        ('chi2score', SelectKBest(chi2, k=top_k_features)),\n",
        "        ('tf_transformer', TfidfTransformer(use_idf=True))\n",
        "    ])\n",
        "    return  text_processor\n",
        "\n",
        "def data_cleaning(documents):\n",
        "    clean_txt = []\n",
        "    for w in range(len(documents['TextData'])):\n",
        "        desc = documents['TextData'][w].lower()\n",
        "        desc = re.sub('[^a-zA-Z]', ' ', desc)\n",
        "        desc = re.sub(\"&lt;/?.*?&gt;\", \" &lt;&gt; \", desc)\n",
        "        desc = re.sub(\"(\\\\d|\\\\W)+\", \" \", desc)\n",
        "        clean_txt.append(desc)\n",
        "    documents['clean'] = clean_txt\n",
        "    return documents\n",
        "\n",
        "def transform_cleanData(documents,text_processor):\n",
        "    proc_text = pd.DataFrame(text_processor.fit_transform(documents['clean'], documents['Class']).todense())\n",
        "    #proc_fit=text_processor.fit(documents['clean'], documents['Class'])\n",
        "    #create unlabeled data\n",
        "    def createList(size, value):\n",
        "        requiredlist = [value] * size\n",
        "        return requiredlist\n",
        "    lbl_p=documents.query(\"Class == 1\").sample(n=250)\n",
        "    lbl_n=documents.query(\"Class == 0\").sample(n=250)\n",
        "    lbl_data=pd.concat([lbl_n, lbl_p], axis=0)\n",
        "    unlb_data=documents.drop(lbl_data.index)\n",
        "    unlabeled_data = createList(1500, -1)\n",
        "    unlb_data['Class'] = unlabeled_data\n",
        "    new_data=pd.concat([lbl_data,unlb_data],axis=0)\n",
        "    prepared_data = pd.concat([proc_text, new_data['Class']], axis=1)\n",
        "    return proc_text,prepared_data\n",
        "\n",
        "def label_unlabel_data(preapredData):\n",
        "    #seperate labeled and unlabeled data\n",
        "    pos=preapredData.query(\"Class == 1 \")\n",
        "    neg=preapredData.query(\"Class == 0 \")\n",
        "    labeled=pd.concat([pos,neg],axis=0)\n",
        "    unlabeled=preapredData.drop(labeled.index)\n",
        "    return labeled,unlabeled\n"
      ],
      "metadata": {
        "colab": {
          "base_uri": "https://localhost:8080/"
        },
        "id": "AttmtaqG9IQm",
        "outputId": "765e82e6-26bf-4515-d62f-886a5177f282"
      },
      "execution_count": 9,
      "outputs": [
        {
          "output_type": "stream",
          "name": "stderr",
          "text": [
            "[nltk_data] Downloading package stopwords to /root/nltk_data...\n",
            "[nltk_data]   Unzipping corpora/stopwords.zip.\n"
          ]
        }
      ]
    },
    {
      "cell_type": "code",
      "source": [
        "#Models................................................................................................................\n",
        "def use_SVC(x_train,x_test,y_train,y_test):\n",
        "    model1=SVC(kernel='rbf')\n",
        "    model2=SVC(kernel='linear')\n",
        "    model1.fit(x_train,y_train)\n",
        "    model2.fit(x_train,y_train)\n",
        "    pred1=model1.predict(x_test)\n",
        "    pred2=model2.predict(x_test)\n",
        "    a1=accuracy_score(y_test,pred1)\n",
        "    a2=accuracy_score(y_test,pred2)\n",
        "    return model1,model2,a1,a2\n",
        "\n",
        "#Query for new data from Unlabeled dataset..............................................................................\n",
        "def get_data(unlabeled,a):\n",
        "    qureied = unlabeled.sample(n=a)\n",
        "    return qureied\n",
        "\n",
        "#Update our labeled data................................................................................................\n",
        "def update_lbl_data(m,qdata,lbld):\n",
        "    pred = m.predict(qdata.iloc[:, :-1])\n",
        "    dfc = m.decision_function(qdata.iloc[:, :-1])\n",
        "    qdata['pred'] = pred\n",
        "    qdata['DFn'] = dfc\n",
        "    a = qdata[qdata['DFn'] > -0.5]\n",
        "    b = qdata[qdata['DFn'] < 0]\n",
        "    ss = list(set(a.DFn) & set(b.DFn))\n",
        "    d = qdata[qdata['DFn'] > 0.5]\n",
        "    neg = qdata[qdata['DFn'].isin(ss)]\n",
        "    join = pd.concat([neg, d], axis=0)\n",
        "    #print(\"Predicted as Positove Class or '1':\")\n",
        "    #print(d)\n",
        "    #print(\"Predicted as Negative Class or '0':\")\n",
        "    #print(neg)\n",
        "    #print(\"Labeled data:\")\n",
        "    #print(join)\n",
        "    join.Class = join.pred\n",
        "    new_lbl = join.iloc[:, :-2]\n",
        "    updated = pd.concat([lbld, new_lbl], axis=0)\n",
        "    return updated,new_lbl\n",
        "\n",
        "def update_ulb(ulb,newidx):\n",
        "    idx = np.array(newidx.index)\n",
        "    ulb = ulb.drop(index=idx)\n",
        "    return ulb\n"
      ],
      "metadata": {
        "id": "eTHFB1NP-Mfa"
      },
      "execution_count": 13,
      "outputs": []
    },
    {
      "cell_type": "code",
      "source": [
        "documents = dataframe_data(movie_reviews)\n",
        "text_processor = define_transformers(500)\n",
        "cleaned_data = data_cleaning(documents)\n",
        "proc_text, prepared_data = transform_cleanData(cleaned_data, text_processor)\n",
        "print(proc_text)\n",
        "print(prepared_data)\n",
        "labeled, unlabeled = label_unlabel_data(prepared_data)"
      ],
      "metadata": {
        "colab": {
          "base_uri": "https://localhost:8080/"
        },
        "id": "IVIfPcj__rvB",
        "outputId": "063d12fa-de19-457d-d43a-b5e330b52835"
      },
      "execution_count": 17,
      "outputs": [
        {
          "output_type": "stream",
          "name": "stderr",
          "text": [
            "/usr/local/lib/python3.8/dist-packages/pandas/core/indexing.py:1951: SettingWithCopyWarning: \n",
            "A value is trying to be set on a copy of a slice from a DataFrame.\n",
            "Try using .loc[row_indexer,col_indexer] = value instead\n",
            "\n",
            "See the caveats in the documentation: https://pandas.pydata.org/pandas-docs/stable/user_guide/indexing.html#returning-a-view-versus-a-copy\n",
            "  self.obj[selected_item_labels] = value\n"
          ]
        }
      ]
    },
    {
      "cell_type": "code",
      "source": [
        "iteration = 0\n",
        "while len(unlabeled)>=500:\n",
        "  x_train, x_test, y_train, y_test = train_test_split(labeled.iloc[:, :-1], labeled.iloc[:, -1])\n",
        "  model1, model2, acc1, acc2 = use_SVC(x_train, x_test, y_train, y_test)\n",
        "  #print(\"Accuracy for SVC model using RBF kernel: \", acc1)\n",
        "  #print(\"Accuracy for SVC model using Linear kernel: \", acc2)\n",
        "  queried_data = get_data(unlabeled, 60)\n",
        "  # labled=update_lbl_data(model1,queried_data,labled)\n",
        "  # print(\"Labeled with SVC model and RBF kernel Function: \")\n",
        "  # print(labled)\n",
        "  labeled, newlbl = update_lbl_data(model2, queried_data, labeled)\n",
        "  unlabeled = update_ulb(unlabeled, newlbl)\n",
        "  #print(\"Labeled with SVC model and Linear kernel Function: \")\n",
        "  #print(labled)\n",
        "  #print(\"New Set of Unlabeled data: \")\n",
        "  #print(unlabeled)\n",
        "  iteration = iteration + 1\n",
        "  print(\"iteration: \", iteration)\n",
        "      "
      ],
      "metadata": {
        "colab": {
          "base_uri": "https://localhost:8080/"
        },
        "id": "RVc0SUjT-Suh",
        "outputId": "da05f155-8739-4b05-933e-5d9feaf59bb0"
      },
      "execution_count": 19,
      "outputs": [
        {
          "output_type": "stream",
          "name": "stdout",
          "text": [
            "iteration:  1\n",
            "iteration:  2\n",
            "iteration:  3\n",
            "iteration:  4\n",
            "iteration:  5\n",
            "iteration:  6\n",
            "iteration:  7\n",
            "iteration:  8\n",
            "iteration:  9\n",
            "iteration:  10\n",
            "iteration:  11\n",
            "iteration:  12\n",
            "iteration:  13\n",
            "iteration:  14\n",
            "iteration:  15\n",
            "iteration:  16\n",
            "iteration:  17\n",
            "iteration:  18\n",
            "iteration:  19\n",
            "iteration:  20\n",
            "iteration:  21\n",
            "iteration:  22\n",
            "iteration:  23\n",
            "iteration:  24\n",
            "iteration:  25\n",
            "iteration:  26\n",
            "iteration:  27\n",
            "iteration:  28\n",
            "iteration:  29\n",
            "iteration:  30\n",
            "iteration:  31\n",
            "iteration:  32\n",
            "iteration:  33\n",
            "iteration:  34\n",
            "iteration:  35\n",
            "iteration:  36\n",
            "iteration:  37\n",
            "iteration:  38\n",
            "iteration:  39\n",
            "iteration:  40\n",
            "iteration:  41\n",
            "iteration:  42\n",
            "iteration:  43\n",
            "iteration:  44\n",
            "iteration:  45\n",
            "iteration:  46\n",
            "iteration:  47\n",
            "iteration:  48\n",
            "iteration:  49\n",
            "iteration:  50\n",
            "iteration:  51\n",
            "iteration:  52\n",
            "iteration:  53\n",
            "iteration:  54\n",
            "iteration:  55\n",
            "iteration:  56\n",
            "iteration:  57\n",
            "iteration:  58\n",
            "iteration:  59\n",
            "iteration:  60\n",
            "iteration:  61\n",
            "iteration:  62\n",
            "iteration:  63\n",
            "iteration:  64\n",
            "iteration:  65\n",
            "iteration:  66\n",
            "iteration:  67\n",
            "iteration:  68\n",
            "iteration:  69\n",
            "iteration:  70\n",
            "iteration:  71\n",
            "iteration:  72\n",
            "iteration:  73\n",
            "iteration:  74\n",
            "iteration:  75\n",
            "iteration:  76\n",
            "iteration:  77\n",
            "iteration:  78\n",
            "iteration:  79\n",
            "iteration:  80\n",
            "iteration:  81\n",
            "iteration:  82\n",
            "iteration:  83\n",
            "iteration:  84\n",
            "iteration:  85\n",
            "iteration:  86\n",
            "iteration:  87\n",
            "iteration:  88\n",
            "iteration:  89\n",
            "iteration:  90\n",
            "iteration:  91\n",
            "iteration:  92\n",
            "iteration:  93\n",
            "iteration:  94\n",
            "iteration:  95\n",
            "iteration:  96\n",
            "iteration:  97\n",
            "iteration:  98\n"
          ]
        }
      ]
    },
    {
      "cell_type": "code",
      "source": [
        "print(labeled)"
      ],
      "metadata": {
        "colab": {
          "base_uri": "https://localhost:8080/"
        },
        "id": "gcrzjWAE_xj6",
        "outputId": "f085c77b-9b73-4d52-975e-ed9c03366804"
      },
      "execution_count": 20,
      "outputs": [
        {
          "output_type": "stream",
          "name": "stdout",
          "text": [
            "        0    1    2    3    4         5         6    7         8    9  ...  \\\n",
            "1012  0.0  0.0  0.0  0.0  0.0  0.117402  0.168458  0.0  0.000000  0.0  ...   \n",
            "1018  0.0  0.0  0.0  0.0  0.0  0.152531  0.109431  0.0  0.000000  0.0  ...   \n",
            "1024  0.0  0.0  0.0  0.0  0.0  0.146546  0.000000  0.0  0.000000  0.0  ...   \n",
            "1025  0.0  0.0  0.0  0.0  0.0  0.048970  0.000000  0.0  0.000000  0.0  ...   \n",
            "1028  0.0  0.0  0.0  0.0  0.0  0.000000  0.000000  0.0  0.082701  0.0  ...   \n",
            "...   ...  ...  ...  ...  ...       ...       ...  ...       ...  ...  ...   \n",
            "1105  0.0  0.0  0.0  0.0  0.0  0.034429  0.000000  0.0  0.000000  0.0  ...   \n",
            "1634  0.0  0.0  0.0  0.0  0.0  0.018213  0.000000  0.0  0.000000  0.0  ...   \n",
            "638   0.0  0.0  0.0  0.0  0.0  0.068691  0.000000  0.0  0.000000  0.0  ...   \n",
            "878   0.0  0.0  0.0  0.0  0.0  0.232649  0.083456  0.0  0.000000  0.0  ...   \n",
            "792   0.0  0.0  0.0  0.0  0.0  0.000000  0.000000  0.0  0.000000  0.0  ...   \n",
            "\n",
            "           491       492       493       494  495       496       497  \\\n",
            "1012  0.000000  0.158754  0.000000  0.000000  0.0  0.000000  0.000000   \n",
            "1018  0.000000  0.000000  0.000000  0.000000  0.0  0.102741  0.000000   \n",
            "1024  0.000000  0.297244  0.000000  0.000000  0.0  0.000000  0.000000   \n",
            "1025  0.000000  0.000000  0.000000  0.000000  0.0  0.000000  0.000000   \n",
            "1028  0.000000  0.000000  0.107475  0.000000  0.0  0.000000  0.000000   \n",
            "...        ...       ...       ...       ...  ...       ...       ...   \n",
            "1105  0.030365  0.069834  0.000000  0.000000  0.0  0.000000  0.000000   \n",
            "1634  0.032126  0.073883  0.000000  0.000000  0.0  0.024535  0.000000   \n",
            "638   0.000000  0.000000  0.000000  0.000000  0.0  0.000000  0.102762   \n",
            "878   0.000000  0.000000  0.000000  0.000000  0.0  0.000000  0.000000   \n",
            "792   0.000000  0.138331  0.000000  0.196831  0.0  0.000000  0.000000   \n",
            "\n",
            "           498  499  Class  \n",
            "1012  0.000000  0.0      1  \n",
            "1018  0.222482  0.0      1  \n",
            "1024  0.000000  0.0      1  \n",
            "1025  0.000000  0.0      1  \n",
            "1028  0.078122  0.0      1  \n",
            "...        ...  ...    ...  \n",
            "1105  0.000000  0.0      1  \n",
            "1634  0.000000  0.0      0  \n",
            "638   0.000000  0.0      0  \n",
            "878   0.169672  0.0      0  \n",
            "792   0.149214  0.0      1  \n",
            "\n",
            "[1504 rows x 501 columns]\n"
          ]
        }
      ]
    },
    {
      "cell_type": "code",
      "source": [
        "print(unlabeled)"
      ],
      "metadata": {
        "colab": {
          "base_uri": "https://localhost:8080/"
        },
        "id": "Ir7HQon2_zWd",
        "outputId": "d712dfbd-f2e0-403f-ee55-a689e6ff7e30"
      },
      "execution_count": 21,
      "outputs": [
        {
          "output_type": "stream",
          "name": "stdout",
          "text": [
            "        0    1    2         3    4         5         6    7         8    9  \\\n",
            "1     0.0  0.0  0.0  0.000000  0.0  0.000000  0.000000  0.0  0.000000  0.0   \n",
            "2     0.0  0.0  0.0  0.000000  0.0  0.000000  0.000000  0.0  0.000000  0.0   \n",
            "3     0.0  0.0  0.0  0.000000  0.0  0.000000  0.000000  0.0  0.108199  0.0   \n",
            "4     0.0  0.0  0.0  0.000000  0.0  0.087561  0.000000  0.0  0.135205  0.0   \n",
            "7     0.0  0.0  0.0  0.000000  0.0  0.046322  0.000000  0.0  0.000000  0.0   \n",
            "...   ...  ...  ...       ...  ...       ...       ...  ...       ...  ...   \n",
            "1932  0.0  0.0  0.0  0.000000  0.0  0.066871  0.000000  0.0  0.206513  0.0   \n",
            "1937  0.0  0.0  0.0  0.000000  0.0  0.090432  0.389275  0.0  0.000000  0.0   \n",
            "1952  0.0  0.0  0.0  0.000000  0.0  0.150128  0.000000  0.0  0.000000  0.0   \n",
            "1963  0.0  0.0  0.0  0.000000  0.0  0.056150  0.000000  0.0  0.000000  0.0   \n",
            "1986  0.0  0.0  0.0  0.093208  0.0  0.037881  0.000000  0.0  0.116985  0.0   \n",
            "\n",
            "      ...       491  492       493       494  495  496       497       498  \\\n",
            "1     ...  0.000000  0.0  0.000000  0.000000  0.0  0.0  0.000000  0.000000   \n",
            "2     ...  0.000000  0.0  0.000000  0.000000  0.0  0.0  0.000000  0.103365   \n",
            "3     ...  0.000000  0.0  0.000000  0.000000  0.0  0.0  0.000000  0.000000   \n",
            "4     ...  0.000000  0.0  0.000000  0.000000  0.0  0.0  0.130993  0.000000   \n",
            "7     ...  0.000000  0.0  0.000000  0.000000  0.0  0.0  0.000000  0.000000   \n",
            "...   ...       ...  ...       ...       ...  ...  ...       ...       ...   \n",
            "1932  ...  0.000000  0.0  0.000000  0.257331  0.0  0.0  0.000000  0.000000   \n",
            "1937  ...  0.000000  0.0  0.000000  0.000000  0.0  0.0  0.000000  0.000000   \n",
            "1952  ...  0.000000  0.0  0.000000  0.000000  0.0  0.0  0.000000  0.000000   \n",
            "1963  ...  0.000000  0.0  0.112675  0.000000  0.0  0.0  0.084001  0.000000   \n",
            "1986  ...  0.066819  0.0  0.000000  0.000000  0.0  0.0  0.056670  0.000000   \n",
            "\n",
            "      499  Class  \n",
            "1     0.0     -1  \n",
            "2     0.0     -1  \n",
            "3     0.0     -1  \n",
            "4     0.0     -1  \n",
            "7     0.0     -1  \n",
            "...   ...    ...  \n",
            "1932  0.0     -1  \n",
            "1937  0.0     -1  \n",
            "1952  0.0     -1  \n",
            "1963  0.0     -1  \n",
            "1986  0.0     -1  \n",
            "\n",
            "[496 rows x 501 columns]\n"
          ]
        }
      ]
    },
    {
      "cell_type": "code",
      "source": [],
      "metadata": {
        "id": "GMNLKYfAAsuo"
      },
      "execution_count": null,
      "outputs": []
    }
  ]
}